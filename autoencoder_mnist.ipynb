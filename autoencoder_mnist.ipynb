{
 "cells": [
  {
   "cell_type": "markdown",
   "metadata": {},
   "source": [
    "# AUTOENCODER IMPLEMENTATION"
   ]
  },
  {
   "cell_type": "markdown",
   "metadata": {},
   "source": [
    "## Imports"
   ]
  },
  {
   "cell_type": "code",
   "execution_count": null,
   "metadata": {
    "execution": {
     "iopub.execute_input": "2024-06-14T09:00:27.300510Z",
     "iopub.status.busy": "2024-06-14T09:00:27.299774Z",
     "iopub.status.idle": "2024-06-14T09:00:27.305606Z",
     "shell.execute_reply": "2024-06-14T09:00:27.304607Z",
     "shell.execute_reply.started": "2024-06-14T09:00:27.300479Z"
    },
    "id": "KBWWeT6tgM2l",
    "trusted": true
   },
   "outputs": [],
   "source": [
    "import tensorflow_datasets as tfds\n",
    "import torch\n",
    "from torch.utils.data import DataLoader, TensorDataset\n",
    "import numpy as np\n",
    "import torch.nn as nn\n",
    "import torch.optim as optim\n",
    "from sklearn.metrics import confusion_matrix, ConfusionMatrixDisplay\n",
    "import matplotlib.pyplot as plt\n",
    "import seaborn as sns\n",
    "import pandas as pd\n",
    "import os"
   ]
  },
  {
   "cell_type": "code",
   "execution_count": null,
   "metadata": {
    "_cell_guid": "b1076dfc-b9ad-4769-8c92-a6c4dae69d19",
    "_uuid": "8f2839f25d086af736a60e9eeb907d3b93b6e0e5",
    "id": "5jf1gM9JgM2i",
    "trusted": true
   },
   "outputs": [],
   "source": [
    "for dirname, _, filenames in os.walk('/kaggle/input'):\n",
    "    for filename in filenames:\n",
    "        print(os.path.join(dirname, filename))\n"
   ]
  },
  {
   "cell_type": "markdown",
   "metadata": {},
   "source": [
    "# WITH ADDITIONAL METRICS"
   ]
  },
  {
   "cell_type": "markdown",
   "metadata": {},
   "source": [
    "## Data perparation"
   ]
  },
  {
   "cell_type": "code",
   "execution_count": null,
   "metadata": {
    "execution": {
     "iopub.execute_input": "2024-06-14T09:00:27.935653Z",
     "iopub.status.busy": "2024-06-14T09:00:27.934895Z",
     "iopub.status.idle": "2024-06-14T09:00:29.413103Z",
     "shell.execute_reply": "2024-06-14T09:00:29.412100Z",
     "shell.execute_reply.started": "2024-06-14T09:00:27.935619Z"
    },
    "id": "ScuQkP-FgM2l",
    "trusted": true
   },
   "outputs": [],
   "source": [
    "# Loading and Preprocessing Data\n",
    "\n",
    "(dataset_train, dataset_test), dataset_info = tfds.load(\n",
    "    'mnist_corrupted/identity',\n",
    "    split=['train[:2000]', 'test[:2000]'],  \n",
    "    as_supervised=True,\n",
    "    with_info=True\n",
    ")\n",
    "\n",
    "def dataset_to_numpy(dataset):\n",
    "    image_list = []\n",
    "    for image, _ in dataset:\n",
    "        image_list.append(image.numpy())\n",
    "    return np.array(image_list)\n",
    "\n",
    "train_images_np = dataset_to_numpy(dataset_train)\n",
    "test_images_np = dataset_to_numpy(dataset_test)\n",
    "\n",
    "# Normalizing images and convert to PyTorch tensors\n",
    "train_images_tensor = torch.Tensor(train_images_np / 255.0).unsqueeze(1).squeeze(-1)\n",
    "test_images_tensor = torch.Tensor(test_images_np / 255.0).unsqueeze(1).squeeze(-1)\n",
    "\n",
    "# Creating DataLoader objects\n",
    "batch_size = 128\n",
    "train_data = TensorDataset(train_images_tensor)\n",
    "test_data = TensorDataset(test_images_tensor)\n",
    "\n",
    "train_loader = DataLoader(train_data, batch_size=batch_size, shuffle=True)\n",
    "test_loader = DataLoader(test_data, batch_size=batch_size, shuffle=False)"
   ]
  },
  {
   "cell_type": "markdown",
   "metadata": {},
   "source": [
    "## Model definition"
   ]
  },
  {
   "cell_type": "code",
   "execution_count": null,
   "metadata": {},
   "outputs": [],
   "source": [
    "# Constructing the autoencoder with encoder and decoder networks\n",
    "\n",
    "class AutoEncoder(nn.Module):\n",
    "    def __init__(self):\n",
    "        super(AutoEncoder, self).__init__()\n",
    "        self.encoder = nn.Sequential(\n",
    "            nn.Conv2d(1, 32, 3, padding=1),\n",
    "            nn.ReLU(),\n",
    "            nn.MaxPool2d(2, 2),\n",
    "            nn.Conv2d(32, 64, 3, padding=1),\n",
    "            nn.ReLU(),\n",
    "            nn.MaxPool2d(2, 2)\n",
    "        )\n",
    "        self.decoder = nn.Sequential(\n",
    "            nn.ConvTranspose2d(64, 32, 3, stride=2, padding=1, output_padding=1),\n",
    "            nn.ReLU(),\n",
    "            nn.ConvTranspose2d(32, 1, 3, stride=2, padding=1, output_padding=1),\n",
    "            nn.Sigmoid()\n",
    "        )\n",
    "\n",
    "    def forward(self, x):\n",
    "        x = self.encoder(x)\n",
    "        x = self.decoder(x)\n",
    "        return x\n",
    "\n",
    "\n",
    "autoencoder = AutoEncoder()\n",
    "device = torch.device('cuda' if torch.cuda.is_available() else 'cpu')\n",
    "autoencoder.to(device)"
   ]
  },
  {
   "cell_type": "markdown",
   "metadata": {},
   "source": [
    "## Main Loop"
   ]
  },
  {
   "cell_type": "code",
   "execution_count": null,
   "metadata": {},
   "outputs": [],
   "source": [
    "# Defining loss function, optimizer, and training loop\n",
    "\n",
    "loss_function = nn.MSELoss()\n",
    "optimizer = optim.Adam(autoencoder.parameters(), lr=0.001)\n",
    "\n",
    "epochs = 30\n",
    "train_losses = []\n",
    "\n",
    "for epoch in range(epochs):\n",
    "    autoencoder.train()\n",
    "    cumulative_loss = 0.0\n",
    "    for images, in train_loader:\n",
    "        images = images.to(device)\n",
    "        optimizer.zero_grad()\n",
    "        reconstructed_images = autoencoder(images)\n",
    "        loss = loss_function(reconstructed_images, images)\n",
    "        loss.backward()\n",
    "        optimizer.step()\n",
    "        cumulative_loss += loss.item() * images.size(0)\n",
    "\n",
    "    epoch_loss = cumulative_loss / len(train_loader.dataset)\n",
    "    train_losses.append(epoch_loss)\n",
    "    print(f'Epoch [{epoch + 1}/{epochs}], Loss: {epoch_loss:.4f}')"
   ]
  },
  {
   "cell_type": "markdown",
   "metadata": {},
   "source": [
    "## Error Calculations"
   ]
  },
  {
   "cell_type": "code",
   "execution_count": null,
   "metadata": {
    "execution": {
     "iopub.execute_input": "2024-06-14T09:00:35.964627Z",
     "iopub.status.busy": "2024-06-14T09:00:35.964254Z",
     "iopub.status.idle": "2024-06-14T09:00:36.002805Z",
     "shell.execute_reply": "2024-06-14T09:00:36.002000Z",
     "shell.execute_reply.started": "2024-06-14T09:00:35.964599Z"
    },
    "id": "vF3Mx4yugM2n",
    "trusted": true
   },
   "outputs": [],
   "source": [
    "# Computing reconstruction errors \n",
    "\n",
    "def get_reconstruction_errors(model, loader):\n",
    "    model.eval()\n",
    "    errors = []\n",
    "    with torch.no_grad():\n",
    "        for images, in loader:\n",
    "            images = images.to(device)\n",
    "            reconstructed_images = model(images)\n",
    "            loss = torch.mean((reconstructed_images - images) ** 2, dim=[1, 2, 3])\n",
    "            errors.extend(loss.cpu().numpy())\n",
    "    return np.array(errors)\n",
    "\n",
    "\n",
    "train_recon_errors = get_reconstruction_errors(autoencoder, train_loader)"
   ]
  },
  {
   "cell_type": "code",
   "execution_count": null,
   "metadata": {},
   "outputs": [],
   "source": [
    "# Calculating a dynamic threshold for anomaly detection\n",
    "\n",
    "def dynamic_threshold_calculation(errors):\n",
    "    mean_error = np.mean(errors)\n",
    "    std_error = np.std(errors)\n",
    "    return mean_error + 2 * std_error\n",
    "\n",
    "anomaly_threshold = dynamic_threshold_calculation(train_recon_errors)\n",
    "print(f\"Anomaly Detection Threshold: {anomaly_threshold}\")\n"
   ]
  },
  {
   "cell_type": "code",
   "execution_count": null,
   "metadata": {},
   "outputs": [],
   "source": [
    "corruptions = [\n",
    "    'identity', 'shot_noise', 'impulse_noise', 'glass_blur', 'motion_blur',\n",
    "    'shear', 'scale', 'rotate', 'brightness', 'translate', 'stripe',\n",
    "    'fog', 'spatter', 'dotted_line', 'zigzag'\n",
    "]\n",
    "\n",
    "all_predictions = []\n",
    "all_ground_truth = []\n",
    "all_recon_errors = []\n",
    "\n",
    "for corruption_type in corruptions:\n",
    "    print(f\"Evaluating on corruption type: {corruption_type}\")\n",
    "    dataset_test, dataset_info = tfds.load(\n",
    "        f'mnist_corrupted/{corruption_type}',\n",
    "        split='test[:2000]',\n",
    "        as_supervised=True,\n",
    "        with_info=True\n",
    "    )\n",
    "\n",
    "    test_images_np = dataset_to_numpy(dataset_test)\n",
    "    test_images_tensor = torch.Tensor(test_images_np / 255.0).unsqueeze(1).squeeze(-1)\n",
    "    test_loader = DataLoader(TensorDataset(test_images_tensor), batch_size=batch_size, shuffle=False)\n",
    "\n",
    "    recon_errors = get_reconstruction_errors(autoencoder, test_loader)\n",
    "    all_recon_errors.extend(recon_errors)\n",
    "\n",
    "    if corruption_type == 'identity':\n",
    "        ground_truth_labels = np.zeros_like(recon_errors)\n",
    "    else:\n",
    "        ground_truth_labels = np.ones_like(recon_errors)\n",
    "\n",
    "    predicted_labels = recon_errors > anomaly_threshold\n",
    "    all_predictions.extend(predicted_labels)\n",
    "    all_ground_truth.extend(ground_truth_labels)\n"
   ]
  },
  {
   "cell_type": "markdown",
   "metadata": {},
   "source": [
    "## Evaluation and Plotting"
   ]
  },
  {
   "cell_type": "code",
   "execution_count": null,
   "metadata": {},
   "outputs": [],
   "source": [
    "# Calculating and displaying confusion matrix\n",
    "\n",
    "all_predictions = np.array(all_predictions)\n",
    "all_ground_truth = np.array(all_ground_truth)\n",
    "conf_matrix = confusion_matrix(all_ground_truth, all_predictions)\n",
    "\n",
    "TN, FP, FN, TP = conf_matrix.ravel()\n",
    "print(f\"Confusion Matrix:\\n{conf_matrix}\")\n",
    "print(f\"TN: {TN}, FP: {FP}, FN: {FN}, TP: {TP}\")\n"
   ]
  },
  {
   "cell_type": "code",
   "execution_count": null,
   "metadata": {},
   "outputs": [],
   "source": [
    "# Plot reconstruction error distribution\n",
    "plt.figure(figsize=(12, 6))\n",
    "plt.title('Reconstruction Error Distribution')\n",
    "sns.histplot(all_recon_errors, bins=100, kde=True, color='blue')\n",
    "plt.axvline(anomaly_threshold, color='red', linestyle='--', label='Threshold')\n",
    "plt.xlabel('Reconstruction Error')\n",
    "plt.ylabel('Frequency')\n",
    "plt.legend()\n",
    "plt.show()"
   ]
  },
  {
   "cell_type": "code",
   "execution_count": null,
   "metadata": {},
   "outputs": [],
   "source": [
    "# Original vs reconstructed images\n",
    "for images, in train_loader:\n",
    "    images = images.to(device)\n",
    "    reconstructed_images = autoencoder(images)\n",
    "    break  \n",
    "\n",
    "plt.figure(figsize=(12, 6))\n",
    "plt.suptitle('Original vs Reconstructed Images', fontsize=16)\n",
    "plt.show()"
   ]
  },
  {
   "cell_type": "code",
   "execution_count": null,
   "metadata": {},
   "outputs": [],
   "source": [
    "# original images\n",
    "for i in range(6):\n",
    "    plt.subplot(2, 6, i + 1)\n",
    "    plt.imshow(images[i].cpu().detach().squeeze(), cmap='gray')\n",
    "    plt.title('Original')\n",
    "    plt.axis('off')\n",
    "\n",
    "# reconstructed images\n",
    "for i in range(6):\n",
    "    plt.subplot(2, 6, i + 7)\n",
    "    plt.imshow(reconstructed_images[i].cpu().detach().squeeze(), cmap='gray')\n",
    "    plt.title('Reconstructed')\n",
    "    plt.axis('off')\n",
    "\n",
    "plt.show()"
   ]
  },
  {
   "cell_type": "code",
   "execution_count": null,
   "metadata": {},
   "outputs": [],
   "source": [
    "# training loss over epochs\n",
    "plt.figure(figsize=(12, 6))\n",
    "plt.title('Training Loss Over Epochs')\n",
    "plt.plot(range(1, epochs + 1), train_losses, marker='o', linestyle='-', color='blue')\n",
    "plt.xlabel('Epoch')\n",
    "plt.ylabel('Loss')\n",
    "plt.grid()\n",
    "plt.show()\n",
    "\n",
    "# confusion matrix for anomalies\n",
    "disp = ConfusionMatrixDisplay(confusion_matrix=conf_matrix)\n",
    "disp.plot(cmap='Blues')\n",
    "plt.title('Confusion Matrix for Anomalies')\n",
    "plt.show()\n"
   ]
  },
  {
   "cell_type": "markdown",
   "metadata": {
    "id": "vFRgwj4GgM2o"
   },
   "source": [
    "# WITHOUT ANY ADDITIONAL METRICS"
   ]
  },
  {
   "cell_type": "markdown",
   "metadata": {},
   "source": [
    "## Data perparation"
   ]
  },
  {
   "cell_type": "code",
   "execution_count": null,
   "metadata": {},
   "outputs": [],
   "source": [
    "# Loading dataset\n",
    "(ds_train, ds_test), ds_info = tfds.load(\n",
    "    'mnist_corrupted/identity',  \n",
    "    split=['train[:2000]', 'test[:2000]'],  \n",
    "    as_supervised=True,\n",
    "    with_info=True\n",
    ")\n",
    "\n",
    "\n",
    "def to_numpy(ds):\n",
    "    images = []\n",
    "    for img, _ in ds:  \n",
    "        images.append(img.numpy())\n",
    "    return np.array(images)\n",
    "\n",
    "train_images = to_numpy(ds_train)\n",
    "test_images = to_numpy(ds_test)\n",
    "\n",
    "# Normalizing images and converting to PyTorch tensors\n",
    "train_images = torch.Tensor(train_images / 255.0).unsqueeze(1).squeeze(-1) \n",
    "test_images = torch.Tensor(test_images / 255.0).unsqueeze(1).squeeze(-1)\n",
    "\n",
    "# Creating DataLoaders\n",
    "batch_size = 128\n",
    "train_dataset = TensorDataset(train_images)\n",
    "test_dataset = TensorDataset(test_images)\n",
    "\n",
    "train_loader = DataLoader(train_dataset, batch_size=batch_size, shuffle=True)\n",
    "test_loader = DataLoader(test_dataset, batch_size=batch_size, shuffle=False)\n",
    "\n"
   ]
  },
  {
   "cell_type": "markdown",
   "metadata": {},
   "source": [
    "## Model definition"
   ]
  },
  {
   "cell_type": "code",
   "execution_count": null,
   "metadata": {},
   "outputs": [],
   "source": [
    "# Defining autoencoder\n",
    "class Autoencoder(nn.Module):\n",
    "    def __init__(self):\n",
    "        super(Autoencoder, self).__init__()\n",
    "\n",
    "        # Encoder\n",
    "        self.encoder = nn.Sequential(\n",
    "            nn.Conv2d(1, 32, kernel_size=3, padding=1),\n",
    "            nn.ReLU(),\n",
    "            nn.MaxPool2d(kernel_size=2, stride=2),\n",
    "            nn.Conv2d(32, 64, kernel_size=3, padding=1),\n",
    "            nn.ReLU(),\n",
    "            nn.MaxPool2d(kernel_size=2, stride=2)\n",
    "        )\n",
    "\n",
    "        # Decoder\n",
    "        self.decoder = nn.Sequential(\n",
    "            nn.ConvTranspose2d(64, 32, kernel_size=3, stride=2, padding=1, output_padding=1),\n",
    "            nn.ReLU(),\n",
    "            nn.ConvTranspose2d(32, 1, kernel_size=3, stride=2, padding=1, output_padding=1),\n",
    "            nn.Sigmoid()\n",
    "        )\n",
    "\n",
    "    def forward(self, x):\n",
    "        x = self.encoder(x)\n",
    "        x = self.decoder(x)\n",
    "        return x\n",
    "\n",
    "# Initialization\n",
    "model = Autoencoder()\n",
    "device = torch.device('cuda' if torch.cuda.is_available() else 'cpu')\n",
    "model.to(device)\n",
    "\n"
   ]
  },
  {
   "cell_type": "markdown",
   "metadata": {},
   "source": [
    "## Training"
   ]
  },
  {
   "cell_type": "code",
   "execution_count": null,
   "metadata": {},
   "outputs": [],
   "source": [
    "# Defining loss function and optimizer\n",
    "criterion = nn.MSELoss()\n",
    "optimizer = optim.Adam(model.parameters(), lr=0.001)\n",
    "\n",
    "# Training loop\n",
    "num_epochs = 30\n",
    "for epoch in range(num_epochs):\n",
    "    model.train()\n",
    "    running_loss = 0.0\n",
    "    for images, in train_loader:\n",
    "        images = images.to(device)\n",
    "        optimizer.zero_grad()\n",
    "        outputs = model(images)\n",
    "        loss = criterion(outputs, images)\n",
    "        loss.backward()\n",
    "        optimizer.step()\n",
    "        running_loss += loss.item() * images.size(0)\n",
    "\n",
    "    epoch_loss = running_loss / len(train_loader.dataset)\n",
    "    print(f'Epoch [{epoch + 1}/{num_epochs}], Loss: {epoch_loss:.4f}')"
   ]
  },
  {
   "cell_type": "markdown",
   "metadata": {},
   "source": [
    "## Error Calculations"
   ]
  },
  {
   "cell_type": "code",
   "execution_count": null,
   "metadata": {},
   "outputs": [],
   "source": [
    "# Computing reconstruction errors \n",
    "def compute_reconstruction_error(model, loader):\n",
    "    model.eval()\n",
    "    errors = []\n",
    "    with torch.no_grad():\n",
    "        for images, in loader:\n",
    "            images = images.to(device)\n",
    "            outputs = model(images)\n",
    "            loss = torch.mean((outputs - images) ** 2, dim=[1, 2, 3])\n",
    "            errors.extend(loss.cpu().numpy())\n",
    "    return np.array(errors)\n",
    "\n",
    "\n",
    "train_reconstruction_errors = compute_reconstruction_error(model, train_loader)\n",
    "\n",
    "# Dynamic threshold calculation\n",
    "def calculate_dynamic_threshold(losses):\n",
    "    mean_loss = np.mean(losses)\n",
    "    std_loss = np.std(losses)\n",
    "    dynamic_threshold = mean_loss + 2 * std_loss  # Adaptive threshold using z-scores\n",
    "    return dynamic_threshold\n",
    "\n",
    "# Setting an initial anomaly detection threshold based on the training loss distribution\n",
    "threshold = calculate_dynamic_threshold(train_reconstruction_errors)\n",
    "print(f\"Initial anomaly detection threshold: {threshold}\")"
   ]
  },
  {
   "cell_type": "markdown",
   "metadata": {},
   "source": [
    "## Evaluation and Plotting"
   ]
  },
  {
   "cell_type": "code",
   "execution_count": null,
   "metadata": {},
   "outputs": [],
   "source": [
    "# Evaluating across all corruption types\n",
    "corruption_types = [\n",
    "    'identity', 'shot_noise', 'impulse_noise', 'glass_blur', 'motion_blur',\n",
    "    'shear', 'scale', 'rotate', 'brightness', 'translate', 'stripe',\n",
    "    'fog', 'spatter', 'dotted_line', 'zigzag'\n",
    "]\n",
    "\n",
    "all_predictions = []\n",
    "all_ground_truth = []\n",
    "\n",
    "for corruption in corruption_types:\n",
    "    print(f\"Evaluating corruption type: {corruption}\")\n",
    "    ds_test, ds_info = tfds.load(\n",
    "        f'mnist_corrupted/{corruption}',\n",
    "        split='test[:2000]',  \n",
    "        as_supervised=True,\n",
    "        with_info=True\n",
    "    )\n",
    "\n",
    "    test_images = to_numpy(ds_test)\n",
    "    test_images = torch.Tensor(test_images / 255.0).unsqueeze(1).squeeze(-1)\n",
    "    test_loader = DataLoader(TensorDataset(test_images), batch_size=batch_size, shuffle=False)\n",
    "\n",
    "    # reconstruction errors\n",
    "    reconstruction_errors = compute_reconstruction_error(model, test_loader)\n",
    "\n",
    "    # Creating ground truth labels\n",
    "    if corruption == 'identity':\n",
    "        ground_truth = np.zeros_like(reconstruction_errors)  # Normal\n",
    "    else:\n",
    "        ground_truth = np.ones_like(reconstruction_errors)   # Anomalous\n",
    "\n",
    "    # predictions\n",
    "    predictions = reconstruction_errors > threshold\n",
    "    all_predictions.extend(predictions)\n",
    "    all_ground_truth.extend(ground_truth)\n",
    "\n",
    "# confusion matrix\n",
    "all_predictions = np.array(all_predictions)\n",
    "all_ground_truth = np.array(all_ground_truth)\n",
    "cm = confusion_matrix(all_ground_truth, all_predictions)\n",
    "\n",
    "# Extract TN, TP, FN, FP\n",
    "TN, FP, FN, TP = cm.ravel()\n",
    "\n",
    "print(f\"Confusion Matrix:\\n{cm}\")\n",
    "print(f\"TN: {TN}, FP: {FP}, FN: {FN}, TP: {TP}\")"
   ]
  }
 ],
 "metadata": {
  "colab": {
   "provenance": []
  },
  "kaggle": {
   "accelerator": "gpu",
   "dataSources": [],
   "dockerImageVersionId": 30733,
   "isGpuEnabled": true,
   "isInternetEnabled": true,
   "language": "python",
   "sourceType": "notebook"
  },
  "kernelspec": {
   "display_name": "Python 3",
   "language": "python",
   "name": "python3"
  },
  "language_info": {
   "codemirror_mode": {
    "name": "ipython",
    "version": 3
   },
   "file_extension": ".py",
   "mimetype": "text/x-python",
   "name": "python",
   "nbconvert_exporter": "python",
   "pygments_lexer": "ipython3",
   "version": "3.10.13"
  }
 },
 "nbformat": 4,
 "nbformat_minor": 0
}
